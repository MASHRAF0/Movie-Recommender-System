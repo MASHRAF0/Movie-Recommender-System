{
 "cells": [
  {
   "cell_type": "markdown",
   "id": "eb109a68",
   "metadata": {},
   "source": [
    "# Movies \n",
    "\n",
    "Movies are a popular form of entertainment and have been a part of our culture for over a century. With the advent of streaming platforms and the availability of a vast number of movies, it has become increasingly difficult for movie lovers to discover new movies that align with their preferences. This is where movie recommender systems come in.\n",
    "\n",
    "![Movies](https://images.thedirect.com/media/article_full/marvel-posters-ranked.jpg)\n",
    "\n",
    "\n",
    "## Movie recommender systems\n",
    "\n",
    "are computer programs that analyze a user's movie preferences and suggest similar movies that the user may enjoy. These systems use a variety of techniques, such as collaborative filtering, content-based filtering, and deep learning-based models, to make recommendations. Collaborative filtering relies on the preferences of other users who have similar tastes to the user, while content-based filtering analyzes the attributes of the movies themselves, such as genre, cast, and plot summary. Movie recommender systems can help users discover new movies that align with their preferences and make the movie-watching experience more enjoyable."
   ]
  },
  {
   "cell_type": "markdown",
   "id": "793550ce",
   "metadata": {},
   "source": [
    "## Project Outliens\n",
    "\n",
    "Here is an outline of the steps we would need to take to build a movie recommender system:\n",
    "\n",
    "- Collect a dataset of movies and their attributes (e.g. genre, director, cast, plot summary, etc.). The MovieLens dataset (https://grouplens.org/datasets/movielens/) is a popular dataset for building movie recommenders.\n",
    "- Clean and preprocess the data. This might include removing missing values, converting categorical variables to numerical ones, and creating new features.\n",
    "- Feature engineering: Extracting relevant information from the dataset, such as genre, cast, and plot summary and use that information to create new features.\n",
    "- Select a similarity metric: There are several ways to measure the similarity between movies, such as cosine similarity or Jaccard similarity.\n",
    "- Create a model: You can use a variety of models such as a memory-based collaborative filtering, model-based collaborative filtering, and deep learning-based models.\n",
    "- Train and evaluate the model\n",
    "- Create an API or a web-based interface for the movie recommender system that takes in a movie name and returns recommendations based on the similarity."
   ]
  },
  {
   "cell_type": "code",
   "execution_count": 1,
   "id": "a3736bcb",
   "metadata": {},
   "outputs": [],
   "source": [
    "# Importing required packages \n",
    "import numpy as np\n",
    "import pandas as pd"
   ]
  },
  {
   "cell_type": "markdown",
   "id": "f267894e",
   "metadata": {},
   "source": [
    "### Reading Dataset"
   ]
  },
  {
   "cell_type": "code",
   "execution_count": 2,
   "id": "f409997f",
   "metadata": {},
   "outputs": [],
   "source": [
    "movies = pd.read_csv('Datasets/movie_overviews.csv')"
   ]
  },
  {
   "cell_type": "code",
   "execution_count": 3,
   "id": "01044145",
   "metadata": {},
   "outputs": [
    {
     "data": {
      "text/plain": [
       "(9099, 4)"
      ]
     },
     "execution_count": 3,
     "metadata": {},
     "output_type": "execute_result"
    }
   ],
   "source": [
    "movies.shape"
   ]
  },
  {
   "cell_type": "code",
   "execution_count": 4,
   "id": "41142512",
   "metadata": {
    "scrolled": true
   },
   "outputs": [
    {
     "data": {
      "text/html": [
       "<div>\n",
       "<style scoped>\n",
       "    .dataframe tbody tr th:only-of-type {\n",
       "        vertical-align: middle;\n",
       "    }\n",
       "\n",
       "    .dataframe tbody tr th {\n",
       "        vertical-align: top;\n",
       "    }\n",
       "\n",
       "    .dataframe thead th {\n",
       "        text-align: right;\n",
       "    }\n",
       "</style>\n",
       "<table border=\"1\" class=\"dataframe\">\n",
       "  <thead>\n",
       "    <tr style=\"text-align: right;\">\n",
       "      <th></th>\n",
       "      <th>id</th>\n",
       "      <th>title</th>\n",
       "      <th>overview</th>\n",
       "      <th>tagline</th>\n",
       "    </tr>\n",
       "  </thead>\n",
       "  <tbody>\n",
       "    <tr>\n",
       "      <th>0</th>\n",
       "      <td>862</td>\n",
       "      <td>Toy Story</td>\n",
       "      <td>Led by Woody, Andy's toys live happily in his ...</td>\n",
       "      <td>NaN</td>\n",
       "    </tr>\n",
       "    <tr>\n",
       "      <th>1</th>\n",
       "      <td>8844</td>\n",
       "      <td>Jumanji</td>\n",
       "      <td>When siblings Judy and Peter discover an encha...</td>\n",
       "      <td>Roll the dice and unleash the excitement!</td>\n",
       "    </tr>\n",
       "    <tr>\n",
       "      <th>2</th>\n",
       "      <td>15602</td>\n",
       "      <td>Grumpier Old Men</td>\n",
       "      <td>A family wedding reignites the ancient feud be...</td>\n",
       "      <td>Still Yelling. Still Fighting. Still Ready for...</td>\n",
       "    </tr>\n",
       "    <tr>\n",
       "      <th>3</th>\n",
       "      <td>31357</td>\n",
       "      <td>Waiting to Exhale</td>\n",
       "      <td>Cheated on, mistreated and stepped on, the wom...</td>\n",
       "      <td>Friends are the people who let you be yourself...</td>\n",
       "    </tr>\n",
       "    <tr>\n",
       "      <th>4</th>\n",
       "      <td>11862</td>\n",
       "      <td>Father of the Bride Part II</td>\n",
       "      <td>Just when George Banks has recovered from his ...</td>\n",
       "      <td>Just When His World Is Back To Normal... He's ...</td>\n",
       "    </tr>\n",
       "  </tbody>\n",
       "</table>\n",
       "</div>"
      ],
      "text/plain": [
       "      id                        title  \\\n",
       "0    862                    Toy Story   \n",
       "1   8844                      Jumanji   \n",
       "2  15602             Grumpier Old Men   \n",
       "3  31357            Waiting to Exhale   \n",
       "4  11862  Father of the Bride Part II   \n",
       "\n",
       "                                            overview  \\\n",
       "0  Led by Woody, Andy's toys live happily in his ...   \n",
       "1  When siblings Judy and Peter discover an encha...   \n",
       "2  A family wedding reignites the ancient feud be...   \n",
       "3  Cheated on, mistreated and stepped on, the wom...   \n",
       "4  Just when George Banks has recovered from his ...   \n",
       "\n",
       "                                             tagline  \n",
       "0                                                NaN  \n",
       "1          Roll the dice and unleash the excitement!  \n",
       "2  Still Yelling. Still Fighting. Still Ready for...  \n",
       "3  Friends are the people who let you be yourself...  \n",
       "4  Just When His World Is Back To Normal... He's ...  "
      ]
     },
     "execution_count": 4,
     "metadata": {},
     "output_type": "execute_result"
    }
   ],
   "source": [
    "movies.head()"
   ]
  },
  {
   "cell_type": "code",
   "execution_count": 5,
   "id": "5152c638",
   "metadata": {
    "scrolled": false
   },
   "outputs": [
    {
     "name": "stdout",
     "output_type": "stream",
     "text": [
      "<class 'pandas.core.frame.DataFrame'>\n",
      "RangeIndex: 9099 entries, 0 to 9098\n",
      "Data columns (total 4 columns):\n",
      " #   Column    Non-Null Count  Dtype \n",
      "---  ------    --------------  ----- \n",
      " 0   id        9099 non-null   int64 \n",
      " 1   title     9099 non-null   object\n",
      " 2   overview  9087 non-null   object\n",
      " 3   tagline   7033 non-null   object\n",
      "dtypes: int64(1), object(3)\n",
      "memory usage: 284.5+ KB\n"
     ]
    }
   ],
   "source": [
    "movies.info()"
   ]
  },
  {
   "cell_type": "markdown",
   "id": "1b9afe1f",
   "metadata": {},
   "source": [
    "### Data Preprocessing\n",
    "\n",
    "Clean and preprocess the data. This might include removing missing values, converting categorical variables to numerical ones, and creating new features.\n",
    "\n",
    "Text preprocessing for an NLP project typically includes the following steps:\n",
    "\n",
    "- Tokenization: breaking the text into individual words or phrases (tokens)\n",
    "- Lowercasing: converting all text to lowercase to standardize the data\n",
    "- Removing stop words: removing common words such as \"the,\" \"and,\" and \"is\" that do not provide useful information for the analysis\n",
    "- Lemmatization or stemming: reducing words to their base form to standardize the data\n",
    "- Removing special characters and numbers: removing any non-letter characters and numbers to simplify the data\n",
    "- Removing punctuation\n",
    "- Removing white spaces\n",
    "- Removing HTML or XML tags if the data is scraped from website\n",
    "- Removing any duplicate data\n",
    "- Removing any irrelevant data"
   ]
  },
  {
   "cell_type": "code",
   "execution_count": 6,
   "id": "787b05aa",
   "metadata": {},
   "outputs": [],
   "source": [
    "movies.drop('tagline', axis=1, inplace=True)"
   ]
  },
  {
   "cell_type": "code",
   "execution_count": 7,
   "id": "67273b28",
   "metadata": {},
   "outputs": [],
   "source": [
    "import re\n",
    "import nltk\n",
    "import spacy\n",
    "from nltk.corpus import stopwords\n",
    "from nltk.tokenize import word_tokenize\n",
    "from nltk.stem import WordNetLemmatizer\n",
    "from spacy.lang.en import English\n",
    "\n",
    "# Load spaCy's language model\n",
    "nlp = spacy.load(\"en_core_web_sm\")\n",
    "\n",
    "# Load NLTK's stopwords and WordNetLemmatizer\n",
    "stop_words = set(stopwords.words(\"english\"))\n",
    "lemmatizer = WordNetLemmatizer()\n",
    "\n",
    "def preprocess_text(text):\n",
    "    # Remove special characters and digits\n",
    "    text = re.sub(r\"[^a-zA-Z]\", \" \", str(text))\n",
    "    \n",
    "    # Lowercase the text\n",
    "    text = text.lower()\n",
    "    \n",
    "    # Tokenize the text\n",
    "    words = word_tokenize(text)\n",
    "    \n",
    "    # Remove stopwords\n",
    "    words = [word for word in words if word not in stop_words]\n",
    "    \n",
    "    # Lemmatize the words\n",
    "    words = [lemmatizer.lemmatize(word) for word in words]\n",
    "    \n",
    "    # Join the words back into a single string\n",
    "    text = \" \".join(words)\n",
    "    \n",
    "    # Use spaCy's built-in preprocessing\n",
    "    doc = nlp(text)\n",
    "    words = [token.lemma_ for token in doc if not token.is_stop]\n",
    "    text = \" \".join(words)\n",
    "    \n",
    "    return text\n"
   ]
  },
  {
   "cell_type": "code",
   "execution_count": 8,
   "id": "02a5bf7e",
   "metadata": {},
   "outputs": [],
   "source": [
    "movies['overview'] = movies['overview'].apply(preprocess_text)"
   ]
  },
  {
   "cell_type": "code",
   "execution_count": 9,
   "id": "177bda10",
   "metadata": {},
   "outputs": [
    {
     "data": {
      "text/html": [
       "<div>\n",
       "<style scoped>\n",
       "    .dataframe tbody tr th:only-of-type {\n",
       "        vertical-align: middle;\n",
       "    }\n",
       "\n",
       "    .dataframe tbody tr th {\n",
       "        vertical-align: top;\n",
       "    }\n",
       "\n",
       "    .dataframe thead th {\n",
       "        text-align: right;\n",
       "    }\n",
       "</style>\n",
       "<table border=\"1\" class=\"dataframe\">\n",
       "  <thead>\n",
       "    <tr style=\"text-align: right;\">\n",
       "      <th></th>\n",
       "      <th>id</th>\n",
       "      <th>title</th>\n",
       "      <th>overview</th>\n",
       "    </tr>\n",
       "  </thead>\n",
       "  <tbody>\n",
       "    <tr>\n",
       "      <th>0</th>\n",
       "      <td>862</td>\n",
       "      <td>Toy Story</td>\n",
       "      <td>lead woody andy toy live happily room andy bir...</td>\n",
       "    </tr>\n",
       "    <tr>\n",
       "      <th>1</th>\n",
       "      <td>8844</td>\n",
       "      <td>Jumanji</td>\n",
       "      <td>sible judy peter discover enchanted board game...</td>\n",
       "    </tr>\n",
       "    <tr>\n",
       "      <th>2</th>\n",
       "      <td>15602</td>\n",
       "      <td>Grumpier Old Men</td>\n",
       "      <td>family wedding reignite ancient feud door neig...</td>\n",
       "    </tr>\n",
       "    <tr>\n",
       "      <th>3</th>\n",
       "      <td>31357</td>\n",
       "      <td>Waiting to Exhale</td>\n",
       "      <td>cheat mistreat step woman hold breath wait elu...</td>\n",
       "    </tr>\n",
       "    <tr>\n",
       "      <th>4</th>\n",
       "      <td>11862</td>\n",
       "      <td>Father of the Bride Part II</td>\n",
       "      <td>george bank recover daughter wedding receive n...</td>\n",
       "    </tr>\n",
       "  </tbody>\n",
       "</table>\n",
       "</div>"
      ],
      "text/plain": [
       "      id                        title  \\\n",
       "0    862                    Toy Story   \n",
       "1   8844                      Jumanji   \n",
       "2  15602             Grumpier Old Men   \n",
       "3  31357            Waiting to Exhale   \n",
       "4  11862  Father of the Bride Part II   \n",
       "\n",
       "                                            overview  \n",
       "0  lead woody andy toy live happily room andy bir...  \n",
       "1  sible judy peter discover enchanted board game...  \n",
       "2  family wedding reignite ancient feud door neig...  \n",
       "3  cheat mistreat step woman hold breath wait elu...  \n",
       "4  george bank recover daughter wedding receive n...  "
      ]
     },
     "execution_count": 9,
     "metadata": {},
     "output_type": "execute_result"
    }
   ],
   "source": [
    "movies.head()"
   ]
  },
  {
   "cell_type": "code",
   "execution_count": 11,
   "id": "d30b8331",
   "metadata": {
    "scrolled": true
   },
   "outputs": [
    {
     "data": {
      "text/plain": [
       "0       lead woody andy toy live happily room andy bir...\n",
       "1       sible judy peter discover enchanted board game...\n",
       "2       family wedding reignite ancient feud door neig...\n",
       "3       cheat mistreat step woman hold breath wait elu...\n",
       "4       george bank recover daughter wedding receive n...\n",
       "                              ...                        \n",
       "9094    man cope loss wife obsolescence job find redem...\n",
       "9095    rustom pavri honourable officer indian navy sh...\n",
       "9096    village lad sarman draw big bad mohenjo daro m...\n",
       "9097    mind evangelion come hit large life massive gi...\n",
       "9098    band storm europe conquer america groundbreaki...\n",
       "Name: overview, Length: 9099, dtype: object"
      ]
     },
     "execution_count": 11,
     "metadata": {},
     "output_type": "execute_result"
    }
   ],
   "source": [
    "feautres = movies['overview']\n",
    "feautres"
   ]
  },
  {
   "cell_type": "markdown",
   "id": "de63f53c",
   "metadata": {},
   "source": [
    "### Feature Engineering\n",
    "\n",
    "Extracting relevant information from the dataset, such as genre, cast, and plot summary and use that information to create new features.\n",
    "\n",
    "- tf-idf: This technique represents text as a weighted vector of its words, where the weight of each word is proportional to its frequency in the text and inversely proportional to its frequency in the entire corpus."
   ]
  },
  {
   "cell_type": "code",
   "execution_count": 13,
   "id": "8344f71b",
   "metadata": {},
   "outputs": [],
   "source": [
    "from sklearn.feature_extraction.text import TfidfVectorizer\n",
    "tfidf = TfidfVectorizer(stop_words='english')\n"
   ]
  },
  {
   "cell_type": "code",
   "execution_count": 14,
   "id": "06639fde",
   "metadata": {},
   "outputs": [],
   "source": [
    "tfidf_matrix = tfidf.fit_transform(feautres)"
   ]
  },
  {
   "cell_type": "markdown",
   "id": "731787da",
   "metadata": {},
   "source": [
    "### Select a similarity metric\n",
    "\n",
    "There are several ways to measure the similarity between movies, such as cosine similarity or Jaccard similarity.\n",
    "\n",
    "Cosine similarity is a measure of similarity between two non-zero vectors of an inner product space that measures the cosine of the angle between them. In other words, it is a measure of the similarity between two vectors based on the cosine of the angle between them. Cosine similarity is often used in information retrieval and text mining as a measure of similarity between documents or terms.\n",
    "\n",
    "The formula for cosine similarity between two vectors A and B is given by:\n",
    "\n",
    "similarity = cos(theta) = (A * B) / (||A|| * ||B||)\n",
    "\n",
    "where A and B are the vectors, (A * B) is the dot product of the vectors, and ||A|| and ||B|| are the magnitudes of the vectors.\n",
    "\n",
    "The value of the cosine similarity ranges from -1 to 1. A value of 1 means that the vectors are identical and a value of -1 means that the vectors are completely dissimilar. A value of 0 means that the vectors are orthogonal (perpendicular) to each other.\n",
    "\n",
    "Cosine similarity is widely used in information retrieval, text mining and natural language processing to compute the similarity between two documents, two sentences or two words. In a movie recommender system, it can be used to compute the similarity between the plot summaries of the movies."
   ]
  },
  {
   "cell_type": "code",
   "execution_count": 15,
   "id": "83fb975c",
   "metadata": {},
   "outputs": [],
   "source": [
    "from sklearn.metrics.pairwise import linear_kernel\n",
    "cosine_sim = linear_kernel(tfidf_matrix, tfidf_matrix)"
   ]
  },
  {
   "cell_type": "markdown",
   "id": "0e282093",
   "metadata": {},
   "source": [
    "### Modeling"
   ]
  },
  {
   "cell_type": "code",
   "execution_count": 18,
   "id": "f5b22e76",
   "metadata": {},
   "outputs": [],
   "source": [
    "# Generate mapping between titles and index\n",
    "indices = pd.Series(movies.index, index=movies['title']).drop_duplicates()\n",
    " \n",
    "def get_recommendations(title, cosine_sim = cosine_sim , indices = indices):\n",
    "    # Get index of movie that matches title\n",
    "    idx = indices[title]\n",
    "    # Sort the movies based on the similarity scores\n",
    "    sim_scores = list(enumerate(cosine_sim[idx]))\n",
    "    sim_scores = sorted(sim_scores, key=lambda x: x[1], reverse=True)\n",
    "    # Get the scores for 10 most similar movies\n",
    "    sim_scores = sim_scores[1:11]\n",
    "    # Get the movie indices\n",
    "    movie_indices = [i[0] for i in sim_scores]\n",
    "    # Return the top 10 most similar movies\n",
    "    return movies['title'].iloc[movie_indices]"
   ]
  },
  {
   "cell_type": "code",
   "execution_count": 29,
   "id": "e461721c",
   "metadata": {},
   "outputs": [
    {
     "data": {
      "text/plain": [
       "7514                    Iron Man 2\n",
       "8290                    Iron Man 3\n",
       "5668                      Scarface\n",
       "6206                      The Cave\n",
       "8766       Avengers: Age of Ultron\n",
       "4272          Saturday Night Fever\n",
       "2047                 Baby Geniuses\n",
       "2322                 The Dark Half\n",
       "1650    Return from Witch Mountain\n",
       "1001                 Touch of Evil\n",
       "Name: title, dtype: object"
      ]
     },
     "execution_count": 29,
     "metadata": {},
     "output_type": "execute_result"
    }
   ],
   "source": [
    "get_recommendations('Iron Man')"
   ]
  }
 ],
 "metadata": {
  "kernelspec": {
   "display_name": "Python 3 (ipykernel)",
   "language": "python",
   "name": "python3"
  },
  "language_info": {
   "codemirror_mode": {
    "name": "ipython",
    "version": 3
   },
   "file_extension": ".py",
   "mimetype": "text/x-python",
   "name": "python",
   "nbconvert_exporter": "python",
   "pygments_lexer": "ipython3",
   "version": "3.9.13"
  }
 },
 "nbformat": 4,
 "nbformat_minor": 5
}
